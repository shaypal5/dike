{
 "cells": [
  {
   "cell_type": "code",
   "execution_count": 1,
   "metadata": {},
   "outputs": [],
   "source": [
    "import dike"
   ]
  },
  {
   "cell_type": "code",
   "execution_count": 2,
   "metadata": {},
   "outputs": [
    {
     "ename": "SyntaxError",
     "evalue": "invalid syntax (util.py, line 66)",
     "output_type": "error",
     "traceback": [
      "Traceback \u001b[0;36m(most recent call last)\u001b[0m:\n",
      "  File \u001b[1;32m\"/Users/shaypalachy/.pyenv/versions/3.8.5/envs/py3/lib/python3.8/site-packages/IPython/core/interactiveshell.py\"\u001b[0m, line \u001b[1;32m3343\u001b[0m, in \u001b[1;35mrun_code\u001b[0m\n    exec(code_obj, self.user_global_ns, self.user_ns)\n",
      "\u001b[0;36m  File \u001b[0;32m\"<ipython-input-2-0a1d757e1ee0>\"\u001b[0;36m, line \u001b[0;32m1\u001b[0;36m, in \u001b[0;35m<module>\u001b[0;36m\u001b[0m\n\u001b[0;31m    from dike.util import corpus_file_to_vocab_counter\u001b[0m\n",
      "\u001b[0;36m  File \u001b[0;32m\"/Users/shaypalachy/clones/dike/dike/util.py\"\u001b[0;36m, line \u001b[0;32m66\u001b[0m\n\u001b[0;31m    for\u001b[0m\n\u001b[0m       ^\u001b[0m\n\u001b[0;31mSyntaxError\u001b[0m\u001b[0;31m:\u001b[0m invalid syntax\n"
     ]
    }
   ],
   "source": [
    "from dike.util import corpus_file_to_vocab_counter"
   ]
  },
  {
   "cell_type": "code",
   "execution_count": 3,
   "metadata": {},
   "outputs": [],
   "source": [
    "fpath = '/Users/shaypalachy/clones/dike/tests/test_corpus1.txt'"
   ]
  },
  {
   "cell_type": "code",
   "execution_count": 4,
   "metadata": {},
   "outputs": [],
   "source": [
    "c = corpus_file_to_vocab_counter(fpath)"
   ]
  },
  {
   "cell_type": "code",
   "execution_count": 5,
   "metadata": {},
   "outputs": [
    {
     "data": {
      "text/plain": [
       "Counter({'trying': 1,\n",
       "         'to': 4,\n",
       "         'hit': 1,\n",
       "         'the': 7,\n",
       "         'ball': 2,\n",
       "         'he': 1,\n",
       "         'jumped': 1,\n",
       "         'around': 1,\n",
       "         'madly': 1,\n",
       "         'when': 1,\n",
       "         'i': 5,\n",
       "         'was': 1,\n",
       "         '16': 1,\n",
       "         'years': 1,\n",
       "         'old': 1,\n",
       "         'went': 1,\n",
       "         'see': 1,\n",
       "         'nicks': 1,\n",
       "         'play': 1,\n",
       "         'at': 1,\n",
       "         'stadium': 1,\n",
       "         'cats': 1,\n",
       "         'can': 1,\n",
       "         'have': 2,\n",
       "         'longer': 1,\n",
       "         'femur': 1,\n",
       "         'bones': 1,\n",
       "         'related': 1,\n",
       "         'other': 1,\n",
       "         'species': 1,\n",
       "         'of': 4,\n",
       "         'similar': 1,\n",
       "         'size': 1,\n",
       "         'tell': 1,\n",
       "         'you': 1,\n",
       "         'dont': 1,\n",
       "         'appreciate': 1,\n",
       "         'foreign': 2,\n",
       "         'policy': 2,\n",
       "         'current': 1,\n",
       "         'president': 1,\n",
       "         'over': 1,\n",
       "         'duration': 1,\n",
       "         'several': 2,\n",
       "         'phone': 2,\n",
       "         'calls': 1,\n",
       "         'told': 1,\n",
       "         'here': 1,\n",
       "         'my': 1,\n",
       "         'cat': 1,\n",
       "         'and': 3,\n",
       "         'his': 1,\n",
       "         'favorite': 1,\n",
       "         'presidential': 1,\n",
       "         'debate': 1,\n",
       "         'lasted': 1,\n",
       "         'hours': 1,\n",
       "         'touched': 1,\n",
       "         'various': 1,\n",
       "         'topics': 1,\n",
       "         'such': 1,\n",
       "         'as': 1,\n",
       "         'tax': 1,\n",
       "         'bills': 1})"
      ]
     },
     "execution_count": 5,
     "metadata": {},
     "output_type": "execute_result"
    }
   ],
   "source": [
    "c"
   ]
  },
  {
   "cell_type": "code",
   "execution_count": null,
   "metadata": {},
   "outputs": [],
   "source": []
  },
  {
   "cell_type": "code",
   "execution_count": 6,
   "metadata": {},
   "outputs": [],
   "source": [
    "from dike.info import glove_twitter_200"
   ]
  },
  {
   "cell_type": "code",
   "execution_count": 7,
   "metadata": {},
   "outputs": [
    {
     "data": {
      "text/plain": [
       "Embedding({'name': 'glove_twitter_200', 'link': 'https://github.com/RaRe-Technologies/gensim-data/releases/tag/glove-twitter-200', 'dlink': 'https://github.com/RaRe-Technologies/gensim-data/releases/download/glove-twitter-200/glove-twitter-200.gz', 'mbsize': 759, 'dimension': 200, 'vocabsize': 1193514, 'tokens': 27000000000})"
      ]
     },
     "execution_count": 7,
     "metadata": {},
     "output_type": "execute_result"
    }
   ],
   "source": [
    "glove_twitter_200"
   ]
  },
  {
   "cell_type": "code",
   "execution_count": 8,
   "metadata": {},
   "outputs": [
    {
     "data": {
      "text/plain": [
       "'glove_twitter_200'"
      ]
     },
     "execution_count": 8,
     "metadata": {},
     "output_type": "execute_result"
    }
   ],
   "source": [
    "glove_twitter_200.name"
   ]
  },
  {
   "cell_type": "code",
   "execution_count": 9,
   "metadata": {},
   "outputs": [
    {
     "data": {
      "text/plain": [
       "'glove_twitter_200.gz'"
      ]
     },
     "execution_count": 9,
     "metadata": {},
     "output_type": "execute_result"
    }
   ],
   "source": [
    "glove_twitter_200.fname"
   ]
  },
  {
   "cell_type": "code",
   "execution_count": 10,
   "metadata": {},
   "outputs": [],
   "source": [
    "from dike.info import Embedding"
   ]
  },
  {
   "cell_type": "code",
   "execution_count": 11,
   "metadata": {},
   "outputs": [],
   "source": [
    "from dike.util import download_embedding"
   ]
  },
  {
   "cell_type": "code",
   "execution_count": 12,
   "metadata": {},
   "outputs": [
    {
     "name": "stdout",
     "output_type": "stream",
     "text": [
      "Downloading glove_twitter_25.gz embedding to /Users/shaypalachy/data/dike/glove_twitter_25.gz:\n"
     ]
    },
    {
     "name": "stderr",
     "output_type": "stream",
     "text": [
      "100%|██████████| 110M/110M [00:18<00:00, 5.88MiB/s] \n"
     ]
    }
   ],
   "source": [
    "download_embedding(Embedding.glove_twitter_25)"
   ]
  }
 ],
 "metadata": {
  "kernelspec": {
   "display_name": "py3",
   "language": "python",
   "name": "py3"
  },
  "language_info": {
   "codemirror_mode": {
    "name": "ipython",
    "version": 3
   },
   "file_extension": ".py",
   "mimetype": "text/x-python",
   "name": "python",
   "nbconvert_exporter": "python",
   "pygments_lexer": "ipython3",
   "version": "3.8.5"
  }
 },
 "nbformat": 4,
 "nbformat_minor": 4
}
