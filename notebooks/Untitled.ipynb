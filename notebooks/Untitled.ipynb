{
 "cells": [
  {
   "cell_type": "code",
   "execution_count": 1,
   "metadata": {},
   "outputs": [],
   "source": [
    "import dike"
   ]
  },
  {
   "cell_type": "code",
   "execution_count": 2,
   "metadata": {},
   "outputs": [],
   "source": [
    "from dike.util import corpus_file_to_vocab_counter"
   ]
  },
  {
   "cell_type": "code",
   "execution_count": 3,
   "metadata": {},
   "outputs": [],
   "source": [
    "fpath = '/Users/shaypalachy/clones/dike/tests/test_corpus1.txt'"
   ]
  },
  {
   "cell_type": "code",
   "execution_count": 4,
   "metadata": {},
   "outputs": [],
   "source": [
    "c = corpus_file_to_vocab_counter(fpath)"
   ]
  },
  {
   "cell_type": "code",
   "execution_count": 5,
   "metadata": {},
   "outputs": [
    {
     "data": {
      "text/plain": [
       "Counter({'trying': 1,\n",
       "         'to': 4,\n",
       "         'hit': 1,\n",
       "         'the': 7,\n",
       "         'ball': 2,\n",
       "         'he': 1,\n",
       "         'jumped': 1,\n",
       "         'around': 1,\n",
       "         'madly': 1,\n",
       "         'when': 1,\n",
       "         'i': 5,\n",
       "         'was': 1,\n",
       "         '16': 1,\n",
       "         'years': 1,\n",
       "         'old': 1,\n",
       "         'went': 1,\n",
       "         'see': 1,\n",
       "         'nicks': 1,\n",
       "         'play': 1,\n",
       "         'at': 1,\n",
       "         'stadium': 1,\n",
       "         'cats': 1,\n",
       "         'can': 1,\n",
       "         'have': 2,\n",
       "         'longer': 1,\n",
       "         'femur': 1,\n",
       "         'bones': 1,\n",
       "         'related': 1,\n",
       "         'other': 1,\n",
       "         'species': 1,\n",
       "         'of': 4,\n",
       "         'similar': 1,\n",
       "         'size': 1,\n",
       "         'tell': 1,\n",
       "         'you': 1,\n",
       "         'dont': 1,\n",
       "         'appreciate': 1,\n",
       "         'foreign': 2,\n",
       "         'policy': 2,\n",
       "         'current': 1,\n",
       "         'president': 1,\n",
       "         'over': 1,\n",
       "         'duration': 1,\n",
       "         'several': 2,\n",
       "         'phone': 2,\n",
       "         'calls': 1,\n",
       "         'told': 1,\n",
       "         'here': 1,\n",
       "         'my': 1,\n",
       "         'cat': 1,\n",
       "         'and': 3,\n",
       "         'his': 1,\n",
       "         'favorite': 1,\n",
       "         'presidential': 1,\n",
       "         'debate': 1,\n",
       "         'lasted': 1,\n",
       "         'hours': 1,\n",
       "         'touched': 1,\n",
       "         'various': 1,\n",
       "         'topics': 1,\n",
       "         'such': 1,\n",
       "         'as': 1,\n",
       "         'tax': 1,\n",
       "         'bills': 1})"
      ]
     },
     "execution_count": 5,
     "metadata": {},
     "output_type": "execute_result"
    }
   ],
   "source": [
    "c"
   ]
  },
  {
   "cell_type": "code",
   "execution_count": 7,
   "metadata": {},
   "outputs": [
    {
     "data": {
      "text/plain": [
       "dict_keys(['trying', 'to', 'hit', 'the', 'ball', 'he', 'jumped', 'around', 'madly', 'when', 'i', 'was', '16', 'years', 'old', 'went', 'see', 'nicks', 'play', 'at', 'stadium', 'cats', 'can', 'have', 'longer', 'femur', 'bones', 'related', 'other', 'species', 'of', 'similar', 'size', 'tell', 'you', 'dont', 'appreciate', 'foreign', 'policy', 'current', 'president', 'over', 'duration', 'several', 'phone', 'calls', 'told', 'here', 'my', 'cat', 'and', 'his', 'favorite', 'presidential', 'debate', 'lasted', 'hours', 'touched', 'various', 'topics', 'such', 'as', 'tax', 'bills'])"
      ]
     },
     "execution_count": 7,
     "metadata": {},
     "output_type": "execute_result"
    }
   ],
   "source": []
  },
  {
   "cell_type": "code",
   "execution_count": null,
   "metadata": {},
   "outputs": [],
   "source": []
  }
 ],
 "metadata": {
  "kernelspec": {
   "display_name": "py3",
   "language": "python",
   "name": "py3"
  },
  "language_info": {
   "codemirror_mode": {
    "name": "ipython",
    "version": 3
   },
   "file_extension": ".py",
   "mimetype": "text/x-python",
   "name": "python",
   "nbconvert_exporter": "python",
   "pygments_lexer": "ipython3",
   "version": "3.6.5"
  }
 },
 "nbformat": 4,
 "nbformat_minor": 2
}
